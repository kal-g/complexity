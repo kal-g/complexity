{
 "cells": [
  {
   "cell_type": "markdown",
   "id": "bfbc2ede",
   "metadata": {},
   "source": [
    "## Imports"
   ]
  },
  {
   "cell_type": "code",
   "execution_count": 1,
   "id": "b795cdfc",
   "metadata": {},
   "outputs": [],
   "source": [
    "import matplotlib.pyplot as plt\n",
    "import numpy as np\n",
    "import pandas as pd\n",
    "import math\n",
    "import heapq"
   ]
  },
  {
   "cell_type": "markdown",
   "id": "d883bf51",
   "metadata": {},
   "source": [
    "## Heap"
   ]
  },
  {
   "cell_type": "code",
   "execution_count": 2,
   "id": "17cf55ae",
   "metadata": {},
   "outputs": [],
   "source": [
    "# Heap for NN\n",
    "class KHeap():\n",
    "  def __init__(self, capacity, invert=False):\n",
    "    self.capacity = capacity\n",
    "    self.data = []\n",
    "    self.mult = -1 if invert else 1 \n",
    "\n",
    "  def push(self, elem):\n",
    "    elem[0] = self.mult * elem[0]\n",
    "    if len(self.data) < self.capacity:\n",
    "      heapq.heappush(self.data, elem)\n",
    "    elif elem < self.data[0]:\n",
    "      heapq.heappop(self.data)\n",
    "      heapq.heappush(self.data, elem)"
   ]
  },
  {
   "cell_type": "markdown",
   "id": "89af1d41",
   "metadata": {},
   "source": [
    "## BirdFlockSimulator"
   ]
  },
  {
   "cell_type": "code",
   "execution_count": 3,
   "id": "9bccaea5",
   "metadata": {},
   "outputs": [],
   "source": [
    "class NearestNeighbourCalculator:\n",
    "  \n",
    "  def __init__(self, neighBoursN):\n",
    "    self.neighboursN = neighBoursN\n",
    "  \n",
    "  def getNNDf(self, df):\n",
    "    res = []\n",
    "    for i in range(len(df)):\n",
    "      res.append(self.getNeighbours(i, df))\n",
    "    nndf = pd.DataFrame(np.array(res))\n",
    "    nndf = nndf.rename(mapper=self.mapColNames, axis='columns')\n",
    "    return pd.concat([df, nndf], axis='columns')\n",
    "\n",
    "  # Nearest Neighbours\n",
    "  def getNeighbours(self, i, df):\n",
    "    bird = df.iloc[i]\n",
    "    maxHeap = KHeap(self.neighboursN, True)\n",
    "    minHeap = KHeap(1)\n",
    "    for index, row in df.iterrows():\n",
    "      if i == index:\n",
    "        continue\n",
    "      dist = abs(row.x-bird.x) ** 2 + abs(row.y-bird.y) ** 2\n",
    "      maxHeap.push([dist, row])\n",
    "      minHeap.push([dist, row])\n",
    "    maxHeap.data.sort()\n",
    "    nn = np.array(\n",
    "      [[math.sqrt(-x[0]), x[1][0], x[1][1]]\n",
    "      for x in reversed(maxHeap.data)]).flatten()\n",
    "    return nn\n",
    "\n",
    "  def mapColNames(self, col):\n",
    "    nnn = col//3\n",
    "    label = \"\"\n",
    "    if col % 3 == 0:\n",
    "      label = \"dist\"\n",
    "    elif col % 3 == 1:\n",
    "      label = \"x\"\n",
    "    else:\n",
    "      label = \"y\"\n",
    "    return f\"nn_{nnn}_{label}\"\n",
    "  "
   ]
  },
  {
   "cell_type": "code",
   "execution_count": 4,
   "id": "ce43ade0",
   "metadata": {},
   "outputs": [],
   "source": [
    "class VectorCalculator:\n",
    "  def __init__(self, neighBoursN):\n",
    "    self.neighboursN = neighBoursN\n",
    "\n",
    "  # Vector calculation\n",
    "  def getVectors(self, df):\n",
    "    # Calculate vector based on NN\n",
    "    vectorData = []\n",
    "    for index, row in df.iterrows():\n",
    "      newXVector = 0.0\n",
    "      newYVector = 0.0\n",
    "      for i in range(self.neighboursN):\n",
    "        xDiff, yDiff = self.calcVector(row, (row[f\"nn_{i}_x\"], row[f\"nn_{i}_y\"], row[f\"nn_{i}_dist\"]))\n",
    "        newXVector += xDiff\n",
    "        newYVector += yDiff\n",
    "      xVector = newXVector + row.vx\n",
    "      yVector = newYVector + row.vy\n",
    "      # Take vectors and combine with current velocity\n",
    "      vectorData.append(np.array([xVector, yVector]))\n",
    "    ret = pd.DataFrame(np.array(vectorData))\n",
    "    ret.columns = [\"x\", \"y\"]\n",
    "    return ret\n",
    "  \n",
    "  # Alternative, use the vectors of the 5 closest neightbours instead?\n",
    "  def calcVector(self, bird, neighbour):\n",
    "    neighbourX, neighbourY, neighbourDist = neighbour\n",
    "    vecX = neighbourX-bird.x\n",
    "    vecY = neighbourY-bird.y\n",
    "    # If neighbour is greater than 15, we want to be attracted to a point 10 away\n",
    "    if neighbourDist >= 15:\n",
    "      attraction = neighbourDist-10\n",
    "      attractionFactor = 0.1\n",
    "      return self.normalizeVector(vecX, vecY, attraction*attractionFactor)\n",
    "    # If neighbour is less than 10, repulse them based on how close they are\n",
    "    # Push away linearly\n",
    "    elif neighbourDist <= 5:\n",
    "      repulsion = 10-neighbourDist\n",
    "      repulsionFactor = 0.1\n",
    "      return self.normalizeVector(-vecX, -vecY, repulsion*repulsionFactor)\n",
    "    # Else, maintain current vector\n",
    "    else:\n",
    "      return (0, 0)\n",
    "  \n",
    "  def normalizeVector(self, x, y, scale=1):\n",
    "    hyp = math.sqrt(x**2 + y**2)\n",
    "    return ((x/hyp)*scale, (y/hyp)*scale)"
   ]
  },
  {
   "cell_type": "code",
   "execution_count": 5,
   "id": "89efe994",
   "metadata": {},
   "outputs": [],
   "source": [
    "class BirdFlockSimulator:\n",
    "\n",
    "  # Init\n",
    "  def __init__(self, numBirds):\n",
    "    self.numBirds = numBirds\n",
    "    self.maxX = 100\n",
    "    self.maxY = 100\n",
    "    self.neighboursN = 5\n",
    "    self.birds = self.createBirdsDataframe()\n",
    "\n",
    "  def createBirdsDataframe(self):\n",
    "    d = {\n",
    "      'x': np.random.rand(self.numBirds) * self.maxX,\n",
    "      'y': np.random.rand(self.numBirds) * self.maxY,\n",
    "      'vx' : np.random.rand(self.numBirds) * 10,\n",
    "      'vy' : np.random.rand(self.numBirds) * 10\n",
    "    }\n",
    "    return pd.DataFrame(data=d)\n",
    "\n",
    "  def tick(self):\n",
    "    # NN\n",
    "    nnCalc = NearestNeighbourCalculator(self.neighboursN)\n",
    "    self.nnDf = nnCalc.getNNDf(self.birds)\n",
    "    # Vectors\n",
    "    vCalc = VectorCalculator(self.neighboursN)\n",
    "    vectors = vCalc.getVectors(self.nnDf)\n",
    "\n",
    "    # Create new df\n",
    "    newD = self.birds[['x', 'y']] + vectors\n",
    "    vectors.columns = ['vx', 'vy']\n",
    "    self.birds = pd.concat([newD, vectors], axis=1)\n",
    "\n",
    "  "
   ]
  },
  {
   "cell_type": "markdown",
   "id": "87676a09",
   "metadata": {},
   "source": [
    "## Test"
   ]
  },
  {
   "cell_type": "code",
   "execution_count": 6,
   "id": "390ebb9f",
   "metadata": {},
   "outputs": [],
   "source": [
    "sim = BirdFlockSimulator(100)"
   ]
  },
  {
   "cell_type": "code",
   "execution_count": 7,
   "id": "c31a91cb",
   "metadata": {},
   "outputs": [
    {
     "data": {
      "text/plain": [
       "[<matplotlib.lines.Line2D at 0x7ffc102d2580>]"
      ]
     },
     "execution_count": 7,
     "metadata": {},
     "output_type": "execute_result"
    },
    {
     "data": {
      "image/png": "[encoded data removed]",
      "text/plain": [
       "<Figure size 432x288 with 1 Axes>"
      ]
     },
     "metadata": {
      "needs_background": "light"
     },
     "output_type": "display_data"
    }
   ],
   "source": [
    "curr = sim.birds\n",
    "plt.plot(curr.x, curr.y, 'o', color='black')"
   ]
  },
  {
   "cell_type": "code",
   "execution_count": 8,
   "id": "49471b92",
   "metadata": {},
   "outputs": [
    {
     "data": {
      "text/html": [
       "<div>\n",
       "<style scoped>\n",
       "    .dataframe tbody tr th:only-of-type {\n",
       "        vertical-align: middle;\n",
       "    }\n",
       "\n",
       "    .dataframe tbody tr th {\n",
       "        vertical-align: top;\n",
       "    }\n",
       "\n",
       "    .dataframe thead th {\n",
       "        text-align: right;\n",
       "    }\n",
       "</style>\n",
       "<table border=\"1\" class=\"dataframe\">\n",
       "  <thead>\n",
       "    <tr style=\"text-align: right;\">\n",
       "      <th></th>\n",
       "      <th>x</th>\n",
       "      <th>y</th>\n",
       "      <th>vx</th>\n",
       "      <th>vy</th>\n",
       "    </tr>\n",
       "  </thead>\n",
       "  <tbody>\n",
       "    <tr>\n",
       "      <th>0</th>\n",
       "      <td>84.456291</td>\n",
       "      <td>67.059862</td>\n",
       "      <td>4.931517</td>\n",
       "      <td>9.739355</td>\n",
       "    </tr>\n",
       "    <tr>\n",
       "      <th>1</th>\n",
       "      <td>39.829285</td>\n",
       "      <td>73.171899</td>\n",
       "      <td>6.182743</td>\n",
       "      <td>7.145990</td>\n",
       "    </tr>\n",
       "    <tr>\n",
       "      <th>2</th>\n",
       "      <td>68.769201</td>\n",
       "      <td>82.982219</td>\n",
       "      <td>0.160641</td>\n",
       "      <td>9.524323</td>\n",
       "    </tr>\n",
       "    <tr>\n",
       "      <th>3</th>\n",
       "      <td>14.773893</td>\n",
       "      <td>16.483064</td>\n",
       "      <td>9.619418</td>\n",
       "      <td>0.446462</td>\n",
       "    </tr>\n",
       "    <tr>\n",
       "      <th>4</th>\n",
       "      <td>17.481418</td>\n",
       "      <td>46.850473</td>\n",
       "      <td>8.462355</td>\n",
       "      <td>7.998011</td>\n",
       "    </tr>\n",
       "    <tr>\n",
       "      <th>...</th>\n",
       "      <td>...</td>\n",
       "      <td>...</td>\n",
       "      <td>...</td>\n",
       "      <td>...</td>\n",
       "    </tr>\n",
       "    <tr>\n",
       "      <th>95</th>\n",
       "      <td>87.383640</td>\n",
       "      <td>24.524459</td>\n",
       "      <td>5.238585</td>\n",
       "      <td>1.169182</td>\n",
       "    </tr>\n",
       "    <tr>\n",
       "      <th>96</th>\n",
       "      <td>67.012469</td>\n",
       "      <td>68.894508</td>\n",
       "      <td>0.305936</td>\n",
       "      <td>2.157054</td>\n",
       "    </tr>\n",
       "    <tr>\n",
       "      <th>97</th>\n",
       "      <td>9.400690</td>\n",
       "      <td>60.217798</td>\n",
       "      <td>1.842499</td>\n",
       "      <td>7.855805</td>\n",
       "    </tr>\n",
       "    <tr>\n",
       "      <th>98</th>\n",
       "      <td>83.220729</td>\n",
       "      <td>82.502978</td>\n",
       "      <td>6.967021</td>\n",
       "      <td>7.777607</td>\n",
       "    </tr>\n",
       "    <tr>\n",
       "      <th>99</th>\n",
       "      <td>20.653958</td>\n",
       "      <td>80.682772</td>\n",
       "      <td>2.488592</td>\n",
       "      <td>0.512218</td>\n",
       "    </tr>\n",
       "  </tbody>\n",
       "</table>\n",
       "<p>100 rows × 4 columns</p>\n",
       "</div>"
      ],
      "text/plain": [
       "            x          y        vx        vy\n",
       "0   84.456291  67.059862  4.931517  9.739355\n",
       "1   39.829285  73.171899  6.182743  7.145990\n",
       "2   68.769201  82.982219  0.160641  9.524323\n",
       "3   14.773893  16.483064  9.619418  0.446462\n",
       "4   17.481418  46.850473  8.462355  7.998011\n",
       "..        ...        ...       ...       ...\n",
       "95  87.383640  24.524459  5.238585  1.169182\n",
       "96  67.012469  68.894508  0.305936  2.157054\n",
       "97   9.400690  60.217798  1.842499  7.855805\n",
       "98  83.220729  82.502978  6.967021  7.777607\n",
       "99  20.653958  80.682772  2.488592  0.512218\n",
       "\n",
       "[100 rows x 4 columns]"
      ]
     },
     "execution_count": 8,
     "metadata": {},
     "output_type": "execute_result"
    }
   ],
   "source": [
    "curr"
   ]
  },
  {
   "cell_type": "code",
   "execution_count": 9,
   "id": "3ca6c321",
   "metadata": {},
   "outputs": [],
   "source": [
    "for i in range(10):\n",
    "  sim.tick()"
   ]
  },
  {
   "cell_type": "code",
   "execution_count": 10,
   "id": "7df26757",
   "metadata": {},
   "outputs": [
    {
     "data": {
      "text/plain": [
       "[<matplotlib.lines.Line2D at 0x7ffc50ff95e0>]"
      ]
     },
     "execution_count": 10,
     "metadata": {},
     "output_type": "execute_result"
    },
    {
     "data": {
      "image/png": "[encoded data removed]",
      "text/plain": [
       "<Figure size 432x288 with 1 Axes>"
      ]
     },
     "metadata": {
      "needs_background": "light"
     },
     "output_type": "display_data"
    }
   ],
   "source": [
    "curr = sim.birds\n",
    "plt.plot(curr.x, curr.y, 'o', color='black')"
   ]
  },
  {
   "cell_type": "code",
   "execution_count": 11,
   "id": "15e23bdd",
   "metadata": {},
   "outputs": [
    {
     "data": {
      "text/html": [
       "<div>\n",
       "<style scoped>\n",
       "    .dataframe tbody tr th:only-of-type {\n",
       "        vertical-align: middle;\n",
       "    }\n",
       "\n",
       "    .dataframe tbody tr th {\n",
       "        vertical-align: top;\n",
       "    }\n",
       "\n",
       "    .dataframe thead th {\n",
       "        text-align: right;\n",
       "    }\n",
       "</style>\n",
       "<table border=\"1\" class=\"dataframe\">\n",
       "  <thead>\n",
       "    <tr style=\"text-align: right;\">\n",
       "      <th></th>\n",
       "      <th>x</th>\n",
       "      <th>y</th>\n",
       "      <th>vx</th>\n",
       "      <th>vy</th>\n",
       "    </tr>\n",
       "  </thead>\n",
       "  <tbody>\n",
       "    <tr>\n",
       "      <th>0</th>\n",
       "      <td>116.763230</td>\n",
       "      <td>111.662224</td>\n",
       "      <td>-16.035974</td>\n",
       "      <td>-4.058437</td>\n",
       "    </tr>\n",
       "    <tr>\n",
       "      <th>1</th>\n",
       "      <td>133.852277</td>\n",
       "      <td>117.819021</td>\n",
       "      <td>24.287640</td>\n",
       "      <td>-6.658211</td>\n",
       "    </tr>\n",
       "    <tr>\n",
       "      <th>2</th>\n",
       "      <td>98.374390</td>\n",
       "      <td>127.705389</td>\n",
       "      <td>-20.009235</td>\n",
       "      <td>-1.349859</td>\n",
       "    </tr>\n",
       "    <tr>\n",
       "      <th>3</th>\n",
       "      <td>115.882306</td>\n",
       "      <td>118.598745</td>\n",
       "      <td>44.403370</td>\n",
       "      <td>36.645267</td>\n",
       "    </tr>\n",
       "    <tr>\n",
       "      <th>4</th>\n",
       "      <td>110.808068</td>\n",
       "      <td>116.668960</td>\n",
       "      <td>29.815809</td>\n",
       "      <td>16.319353</td>\n",
       "    </tr>\n",
       "    <tr>\n",
       "      <th>...</th>\n",
       "      <td>...</td>\n",
       "      <td>...</td>\n",
       "      <td>...</td>\n",
       "      <td>...</td>\n",
       "    </tr>\n",
       "    <tr>\n",
       "      <th>95</th>\n",
       "      <td>123.267239</td>\n",
       "      <td>100.664186</td>\n",
       "      <td>-20.122938</td>\n",
       "      <td>23.200536</td>\n",
       "    </tr>\n",
       "    <tr>\n",
       "      <th>96</th>\n",
       "      <td>95.806325</td>\n",
       "      <td>118.590151</td>\n",
       "      <td>-21.228046</td>\n",
       "      <td>-12.466739</td>\n",
       "    </tr>\n",
       "    <tr>\n",
       "      <th>97</th>\n",
       "      <td>65.706045</td>\n",
       "      <td>95.582040</td>\n",
       "      <td>0.783019</td>\n",
       "      <td>-0.996728</td>\n",
       "    </tr>\n",
       "    <tr>\n",
       "      <th>98</th>\n",
       "      <td>112.698704</td>\n",
       "      <td>127.180644</td>\n",
       "      <td>-12.912292</td>\n",
       "      <td>-2.100902</td>\n",
       "    </tr>\n",
       "    <tr>\n",
       "      <th>99</th>\n",
       "      <td>99.401527</td>\n",
       "      <td>120.013988</td>\n",
       "      <td>12.271585</td>\n",
       "      <td>-23.069427</td>\n",
       "    </tr>\n",
       "  </tbody>\n",
       "</table>\n",
       "<p>100 rows × 4 columns</p>\n",
       "</div>"
      ],
      "text/plain": [
       "             x           y         vx         vy\n",
       "0   116.763230  111.662224 -16.035974  -4.058437\n",
       "1   133.852277  117.819021  24.287640  -6.658211\n",
       "2    98.374390  127.705389 -20.009235  -1.349859\n",
       "3   115.882306  118.598745  44.403370  36.645267\n",
       "4   110.808068  116.668960  29.815809  16.319353\n",
       "..         ...         ...        ...        ...\n",
       "95  123.267239  100.664186 -20.122938  23.200536\n",
       "96   95.806325  118.590151 -21.228046 -12.466739\n",
       "97   65.706045   95.582040   0.783019  -0.996728\n",
       "98  112.698704  127.180644 -12.912292  -2.100902\n",
       "99   99.401527  120.013988  12.271585 -23.069427\n",
       "\n",
       "[100 rows x 4 columns]"
      ]
     },
     "execution_count": 11,
     "metadata": {},
     "output_type": "execute_result"
    }
   ],
   "source": [
    "curr"
   ]
  },
  {
   "cell_type": "code",
   "execution_count": 12,
   "id": "3f000446",
   "metadata": {},
   "outputs": [],
   "source": [
    "for i in range(30):\n",
    "  sim.tick()"
   ]
  },
  {
   "cell_type": "code",
   "execution_count": 13,
   "id": "521f61f3",
   "metadata": {},
   "outputs": [
    {
     "data": {
      "text/plain": [
       "[<matplotlib.lines.Line2D at 0x7ffbe0566ac0>]"
      ]
     },
     "execution_count": 13,
     "metadata": {},
     "output_type": "execute_result"
    },
    {
     "data": {
      "image/png": "[encoded data removed]",
      "text/plain": [
       "<Figure size 432x288 with 1 Axes>"
      ]
     },
     "metadata": {
      "needs_background": "light"
     },
     "output_type": "display_data"
    }
   ],
   "source": [
    "curr = sim.birds\n",
    "plt.plot(curr.x, curr.y, 'o', color='black')"
   ]
  },
  {
   "cell_type": "code",
   "execution_count": null,
   "id": "3b69637d",
   "metadata": {},
   "outputs": [],
   "source": []
  },
  {
   "cell_type": "code",
   "execution_count": null,
   "id": "e037328f",
   "metadata": {},
   "outputs": [],
   "source": []
  }
 ],
 "metadata": {
  "interpreter": {
   "hash": "8124c299eb231f31c2add29327191d7472c70ab2095b4517a65bdbe70919c4a6"
  },
  "kernelspec": {
   "display_name": "Python 3.9.2 ('jp')",
   "language": "python",
   "name": "python3"
  },
  "language_info": {
   "codemirror_mode": {
    "name": "ipython",
    "version": 3
   },
   "file_extension": ".py",
   "mimetype": "text/x-python",
   "name": "python",
   "nbconvert_exporter": "python",
   "pygments_lexer": "ipython3",
   "version": "3.9.2"
  }
 },
 "nbformat": 4,
 "nbformat_minor": 5
}
