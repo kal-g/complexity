{
 "cells": [
  {
   "cell_type": "markdown",
   "id": "bfbc2ede",
   "metadata": {},
   "source": [
    "## Imports"
   ]
  },
  {
   "cell_type": "code",
   "execution_count": 112,
   "id": "b795cdfc",
   "metadata": {},
   "outputs": [],
   "source": [
    "import matplotlib.pyplot as plt\n",
    "import numpy as np\n",
    "import pandas as pd\n",
    "import math\n",
    "import heapq"
   ]
  },
  {
   "cell_type": "markdown",
   "id": "89af1d41",
   "metadata": {},
   "source": [
    "## BirdFlockSimulator"
   ]
  },
  {
   "cell_type": "code",
   "execution_count": 113,
   "id": "89efe994",
   "metadata": {},
   "outputs": [],
   "source": [
    "class BirdFlockSimulator:\n",
    "\n",
    "  # Init\n",
    "  def __init__(self, numBirds):\n",
    "    self.numBirds = numBirds\n",
    "    self.maxX = 100\n",
    "    self.maxY = 100\n",
    "    self.neighboursN = 5\n",
    "    self.birds = self.createBirdsDataframe()\n",
    "\n",
    "  def createBirdsDataframe(self):\n",
    "    d = {\n",
    "      'x': np.random.rand(self.numBirds) * self.maxX,\n",
    "      'y': np.random.rand(self.numBirds) * self.maxY,\n",
    "      'vx' : np.zeros(self.numBirds),\n",
    "      'vy' : np.zeros(self.numBirds)\n",
    "    }\n",
    "    return pd.DataFrame(data=d)\n",
    "\n",
    "  # Heap for NN\n",
    "  class KHeap():\n",
    "    def __init__(self, capacity):\n",
    "      self.capacity = capacity\n",
    "      self.data = []\n",
    "\n",
    "    def push(self, elem):\n",
    "      elem[0] = -elem[0]\n",
    "      if len(self.data) < self.capacity:\n",
    "        heapq.heappush(self.data, elem)\n",
    "      elif elem > self.data[0]:\n",
    "        heapq.heappop(self.data)\n",
    "        heapq.heappush(self.data, elem)\n",
    "  \n",
    "  # Nearest Neighbours\n",
    "  def getKNearestNeighbours(self, i, df):\n",
    "    bird = df.iloc[i]\n",
    "    h = self.KHeap(self.neighboursN)\n",
    "    for index, row in df.iterrows():\n",
    "      if i == index:\n",
    "        continue\n",
    "      dist = abs(row.x-bird.x) ** 2 + abs(row.y-bird.y) ** 2\n",
    "      h.push([dist, row])\n",
    "    h.data.sort()\n",
    "    return np.array(\n",
    "      [[math.sqrt(-x[0]), x[1][0], x[1][1]]\n",
    "      for x in reversed(h.data)]).flatten()\n",
    "\n",
    "  def concatNN(self, df):\n",
    "    res = []\n",
    "    \n",
    "    for i in range(len(df)):\n",
    "      res.append(self.getKNearestNeighbours(i, df))\n",
    "    nndf = pd.DataFrame(np.array(res))\n",
    "    nndf = nndf.rename(mapper=self.mapColNames, axis='columns')\n",
    "    return pd.concat([df, nndf], axis='columns')\n",
    "\n",
    "  def mapColNames(self, col):\n",
    "    nnn = col//3\n",
    "    label = \"\"\n",
    "    if col % 3 == 0:\n",
    "      label = \"dist\"\n",
    "    elif col % 3 == 1:\n",
    "      label = \"x\"\n",
    "    else:\n",
    "      label = \"y\"\n",
    "    return f\"nn_{nnn}_{label}\"\n",
    "\n",
    "  # Vector calculation\n",
    "  def getVectors(self, df):\n",
    "    vectorData = []\n",
    "    for index, row in df.iterrows():\n",
    "      xVector = 0.0\n",
    "      yVector = 0.0\n",
    "      for i in range(self.neighboursN):\n",
    "        xDiff, yDiff = self.calcVector((row.x, row.y), (row[f\"nn_{i}_x\"], row[f\"nn_{i}_y\"], row[f\"nn_{i}_dist\"]))\n",
    "        xVector += xDiff\n",
    "        yVector += yDiff\n",
    "      vectorData.append(np.array([xVector, yVector]))\n",
    "    ret = pd.DataFrame(np.array(vectorData))\n",
    "    ret.columns = [\"x\", \"y\"]\n",
    "    return ret\n",
    "  \n",
    "  def calcVector(self, bird, neighbour):\n",
    "    birdX, birdY = bird\n",
    "    neighbourX, neighbourY, neighbourDist = neighbour\n",
    "    vecX = neighbourX-birdX\n",
    "    vecY = neighbourY-birdY\n",
    "    # If neighbour is greater than 15, we want to be attracted to a point 10 away\n",
    "    if neighbourDist >= 15:\n",
    "      attraction = neighbourDist-10\n",
    "      attractionFactor = 0.1\n",
    "      return self.normalizeVector(vecX, vecY, attraction*attractionFactor)\n",
    "    # If neighbour is less than 10, repulse them based on how close they are\n",
    "    # Push away linearly\n",
    "    elif neighbourDist <= 5:\n",
    "      repulsion = 10-neighbourDist\n",
    "      repulsionFactor = 0.1\n",
    "      return self.normalizeVector(-vecX, -vecY, repulsion*repulsionFactor)\n",
    "    else:\n",
    "      return (0, 0)\n",
    "    \n",
    "  def normalizeVector(self, x, y, scale=1):\n",
    "    hyp = math.sqrt(x**2 + y**2)\n",
    "    return ((x/hyp)*scale, (y/hyp)*scale)\n",
    "\n",
    "  def tick(self):\n",
    "    concated = self.concatNN(self.birds)\n",
    "    vectors = self.getVectors(concated)\n",
    "    newD = self.birds[['x', 'y']] + vectors\n",
    "    vectors.columns = ['vx', 'vy']\n",
    "    self.birds = pd.concat([newD, vectors], axis=1)\n",
    "\n",
    "  def getDf(self):\n",
    "    return self.birds\n",
    "\n",
    "  "
   ]
  },
  {
   "cell_type": "markdown",
   "id": "87676a09",
   "metadata": {},
   "source": [
    "## Test"
   ]
  },
  {
   "cell_type": "code",
   "execution_count": 114,
   "id": "390ebb9f",
   "metadata": {},
   "outputs": [],
   "source": [
    "sim = BirdFlockSimulator(100)"
   ]
  },
  {
   "cell_type": "code",
   "execution_count": 115,
   "id": "c31a91cb",
   "metadata": {},
   "outputs": [
    {
     "data": {
      "text/plain": [
       "[<matplotlib.lines.Line2D at 0x7f9968c881f0>]"
      ]
     },
     "execution_count": 115,
     "metadata": {},
     "output_type": "execute_result"
    },
    {
     "data": {
      "image/png": "[encoded data removed]",
      "text/plain": [
       "<Figure size 432x288 with 1 Axes>"
      ]
     },
     "metadata": {
      "needs_background": "light"
     },
     "output_type": "display_data"
    }
   ],
   "source": [
    "curr = sim.getDf()\n",
    "plt.plot(curr.x, curr.y, 'o', color='black')"
   ]
  },
  {
   "cell_type": "code",
   "execution_count": 116,
   "id": "42a5f664",
   "metadata": {},
   "outputs": [],
   "source": [
    "for i in range(10):\n",
    "  sim.tick()"
   ]
  },
  {
   "cell_type": "code",
   "execution_count": 117,
   "id": "6b0b63ba",
   "metadata": {},
   "outputs": [
    {
     "data": {
      "text/plain": [
       "[<matplotlib.lines.Line2D at 0x7f9918edb0a0>]"
      ]
     },
     "execution_count": 117,
     "metadata": {},
     "output_type": "execute_result"
    },
    {
     "data": {
      "image/png": "[encoded data removed]",
      "text/plain": [
       "<Figure size 432x288 with 1 Axes>"
      ]
     },
     "metadata": {
      "needs_background": "light"
     },
     "output_type": "display_data"
    }
   ],
   "source": [
    "curr = sim.getDf()\n",
    "plt.plot(curr.x, curr.y, 'o', color='black')"
   ]
  },
  {
   "cell_type": "code",
   "execution_count": null,
   "id": "3ca6c321",
   "metadata": {},
   "outputs": [],
   "source": []
  }
 ],
 "metadata": {
  "interpreter": {
   "hash": "8124c299eb231f31c2add29327191d7472c70ab2095b4517a65bdbe70919c4a6"
  },
  "kernelspec": {
   "display_name": "Python 3.9.2 ('jp')",
   "language": "python",
   "name": "python3"
  },
  "language_info": {
   "codemirror_mode": {
    "name": "ipython",
    "version": 3
   },
   "file_extension": ".py",
   "mimetype": "text/x-python",
   "name": "python",
   "nbconvert_exporter": "python",
   "pygments_lexer": "ipython3",
   "version": "3.9.2"
  }
 },
 "nbformat": 4,
 "nbformat_minor": 5
}
