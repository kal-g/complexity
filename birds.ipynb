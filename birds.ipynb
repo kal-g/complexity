{
 "cells": [
  {
   "cell_type": "markdown",
   "id": "bfbc2ede",
   "metadata": {},
   "source": [
    "## Imports"
   ]
  },
  {
   "cell_type": "code",
   "execution_count": 1,
   "id": "b795cdfc",
   "metadata": {},
   "outputs": [],
   "source": [
    "import matplotlib.pyplot as plt\n",
    "import numpy as np\n",
    "import pandas as pd\n",
    "import math\n",
    "import heapq\n",
    "import mplcursors"
   ]
  },
  {
   "cell_type": "markdown",
   "id": "d883bf51",
   "metadata": {},
   "source": [
    "## Heap"
   ]
  },
  {
   "cell_type": "code",
   "execution_count": 2,
   "id": "17cf55ae",
   "metadata": {},
   "outputs": [],
   "source": [
    "# Use a max heap of n elements, popping when the new element is less than the head\n",
    "class KMaxHeap():\n",
    "  def __init__(self, capacity):\n",
    "    self.capacity = capacity\n",
    "    self.data = [] \n",
    "\n",
    "  def push(self, elem):\n",
    "    elem[0] = -elem[0]\n",
    "    if len(self.data) < self.capacity:\n",
    "      heapq.heappush(self.data, elem)\n",
    "    elif elem[0] > self.data[0][0]:\n",
    "      heapq.heappushpop(self.data, elem)"
   ]
  },
  {
   "cell_type": "markdown",
   "id": "89af1d41",
   "metadata": {},
   "source": [
    "## BirdFlockSimulator"
   ]
  },
  {
   "cell_type": "code",
   "execution_count": 3,
   "id": "9bccaea5",
   "metadata": {},
   "outputs": [],
   "source": [
    "class NearestNeighbourCalculator:\n",
    "  \n",
    "  def __init__(self, neighBoursN):\n",
    "    self.neighboursN = neighBoursN\n",
    "  \n",
    "  def getNNDf(self, df):\n",
    "    res = []\n",
    "    for i in range(len(df)):\n",
    "      res.append(self.getNeighbours(i, df))\n",
    "    nndf = pd.DataFrame(np.array(res))\n",
    "    nndf = nndf.rename(mapper=self.mapColNames, axis='columns')\n",
    "    return pd.concat([df, nndf], axis='columns')\n",
    "\n",
    "  # Nearest Neighbours\n",
    "  def getNeighbours(self, i, df):\n",
    "    bird = df.iloc[i]\n",
    "    maxHeap = KMaxHeap(self.neighboursN)\n",
    "    for index, row in df.iterrows():\n",
    "      if i == index:\n",
    "        continue\n",
    "      dist = abs(row.x-bird.x) ** 2 + abs(row.y-bird.y) ** 2\n",
    "      maxHeap.push([dist, row])\n",
    "    maxHeap.data.sort()\n",
    "    nn = np.array(\n",
    "      [[math.sqrt(-x[0]), x[1][0], x[1][1]]\n",
    "      for x in reversed(maxHeap.data)]).flatten()\n",
    "    return nn\n",
    "\n",
    "  def mapColNames(self, col):\n",
    "    nnn = col//3\n",
    "    label = \"\"\n",
    "    if col % 3 == 0:\n",
    "      label = \"dist\"\n",
    "    elif col % 3 == 1:\n",
    "      label = \"x\"\n",
    "    else:\n",
    "      label = \"y\"\n",
    "    return f\"nn_{nnn}_{label}\"\n",
    "  "
   ]
  },
  {
   "cell_type": "code",
   "execution_count": 4,
   "id": "ce43ade0",
   "metadata": {},
   "outputs": [],
   "source": [
    "class VectorCalculator:\n",
    "  def __init__(self, neighBoursN, momentumFactor):\n",
    "    self.neighboursN = neighBoursN\n",
    "    self.momentumFactor = momentumFactor\n",
    "\n",
    "  # Vector calculation\n",
    "  def getVectors(self, df):\n",
    "    # Calculate vector based on NN\n",
    "    vectorData = []\n",
    "    for index, row in df.iterrows():\n",
    "      newXVector = 0.0\n",
    "      newYVector = 0.0\n",
    "      individualXVectors = []\n",
    "      individualYVectors = []\n",
    "      for i in range(self.neighboursN):\n",
    "        xDiff, yDiff = self.calcVector(row, (row[f\"nn_{i}_x\"], row[f\"nn_{i}_y\"], row[f\"nn_{i}_dist\"]))\n",
    "        newXVector += float(xDiff)\n",
    "        newYVector += float(yDiff)\n",
    "        individualXVectors.append(float(xDiff))\n",
    "        individualYVectors.append(float(yDiff))\n",
    "      # This should be replaced with a momentum model\n",
    "      xVector = newXVector * (1-self.momentumFactor) + row.vx * (self.momentumFactor)\n",
    "      yVector = newYVector * (1-self.momentumFactor) + row.vy * (self.momentumFactor)\n",
    "      # Floor velocity to 5\n",
    "      if ((xVector **2) + (yVector ** 2)) < 10:\n",
    "        xVector, yVector = self.normalizeVector(xVector, yVector, math.sqrt(10))\n",
    "      # Take vectors and combine with current velocity\n",
    "      vectorData.append(np.array([xVector, yVector, newXVector, newYVector] + individualXVectors + individualYVectors))\n",
    "    ret = pd.DataFrame(np.array(vectorData))\n",
    "    ret.columns = [\"x\", \"y\", \"vx_d\", \"vy_d\"] + [f'vx_{i}' for i in range(5)] + [f'vy_{i}' for i in range(5)]\n",
    "    return ret\n",
    "  \n",
    "  # Alternative, use the vectors of the 5 closest neightbours instead?\n",
    "  def calcVector(self, bird, neighbour):\n",
    "    neighbourX, neighbourY, neighbourDist = neighbour\n",
    "    vecX = neighbourX-bird.x\n",
    "    vecY = neighbourY-bird.y\n",
    "    # If neighbour is greater than 15, we want to be attracted to a point 10 away\n",
    "    if neighbourDist >= 15:\n",
    "      attraction = neighbourDist-10\n",
    "      attractionFactor = 0.1\n",
    "      return self.normalizeVector(vecX, vecY, attraction*attractionFactor)\n",
    "    # If neighbour is less than 10, repulse them based on how close they are\n",
    "    # Push away linearly\n",
    "    elif neighbourDist <= 5:\n",
    "      repulsion = 10-neighbourDist\n",
    "      repulsionFactor = 0.1\n",
    "      return self.normalizeVector(-vecX, -vecY, repulsion*repulsionFactor)\n",
    "    # Else, maintain current vector\n",
    "    else:\n",
    "      return (0, 0)\n",
    "  \n",
    "  def normalizeVector(self, x, y, scale=1):\n",
    "    hyp = math.sqrt(x**2 + y**2)\n",
    "    return ((x/hyp)*scale, (y/hyp)*scale)"
   ]
  },
  {
   "cell_type": "code",
   "execution_count": 5,
   "id": "89efe994",
   "metadata": {},
   "outputs": [],
   "source": [
    "class BirdFlockSimulator:\n",
    "\n",
    "  # Init\n",
    "  def __init__(self, numBirds):\n",
    "    self.numBirds = numBirds\n",
    "    self.maxX = 100\n",
    "    self.maxY = 100\n",
    "    self.neighboursN = 5\n",
    "    # 0.1 keeps them in place\n",
    "    self.momentumFactor = 0.5\n",
    "    self.birds = self.createBirdsDataframe()\n",
    "    self.next = None\n",
    "\n",
    "  def createBirdsDataframe(self):\n",
    "    d = {\n",
    "      'x': np.random.rand(self.numBirds) * self.maxX,\n",
    "      'y': np.random.rand(self.numBirds) * self.maxY,\n",
    "      'vx' : np.random.rand(self.numBirds) * 10,\n",
    "      'vy' : np.random.rand(self.numBirds) * 10\n",
    "    }\n",
    "    return pd.DataFrame(data=d)\n",
    "\n",
    "  def getNext(self):\n",
    "    if self.next is None:\n",
    "      self.next = self.calculateTick()\n",
    "    return self.next[1]\n",
    "\n",
    "  def tick(self, update=True):\n",
    "    self.getNext()\n",
    "    if update:\n",
    "      self.birds, self.nnDf = self.next\n",
    "      self.next = None\n",
    "\n",
    "  def calculateTick(self):\n",
    "    # NN\n",
    "    nnCalc = NearestNeighbourCalculator(self.neighboursN)\n",
    "    nnDf = nnCalc.getNNDf(self.birds)\n",
    "    # Vectors\n",
    "    vCalc = VectorCalculator(self.neighboursN, self.momentumFactor)\n",
    "    vectors = vCalc.getVectors(nnDf)\n",
    "    # Create new df\n",
    "    newD = self.birds[['x', 'y']] + vectors[['x', 'y']]\n",
    "    vectors = vectors.rename(columns={'x' : 'vx', 'y' : 'vy'})\n",
    "    ret = pd.concat([newD, vectors], axis=1)\n",
    "    return ret, nnDf\n",
    "\n",
    "  "
   ]
  },
  {
   "cell_type": "markdown",
   "id": "3212079b",
   "metadata": {},
   "source": [
    "## Plotting"
   ]
  },
  {
   "cell_type": "code",
   "execution_count": 6,
   "id": "fbde0812",
   "metadata": {},
   "outputs": [],
   "source": [
    "%matplotlib widget\n",
    "\n",
    "def positionPlot(df):\n",
    "  fig, ax = plt.subplots(1, 1)\n",
    "  scat = ax.scatter(df[\"x\"], df[\"y\"])\n",
    "  scat.annotation_names = list(range(100))\n",
    "  cursor = mplcursors.cursor([scat], hover=True)\n",
    "  cursor.connect(\"add\", lambda sel: sel.annotation.set_text(sel.artist.annotation_names[sel.target.index]))\n",
    "  plt.show()"
   ]
  },
  {
   "cell_type": "code",
   "execution_count": 7,
   "id": "60e003cf",
   "metadata": {},
   "outputs": [],
   "source": [
    "def velPlot(curr, next, interpolationFactor=10):\n",
    "  figs = []\n",
    "  fig, ax = plt.subplots()\n",
    "  c = []\n",
    "  n = []\n",
    "  for row, nrow in zip(curr.iterrows(), next.iterrows()):\n",
    "    c.append((row[1].x, row[1].y))\n",
    "    n.append((nrow[1].x, nrow[1].y))\n",
    "  for i in range(len(c)):\n",
    "    ax.annotate('', xytext=c[i], xy=n[i], arrowprops=dict(arrowstyle='->'))\n",
    "  ax.set(xlim=(0, 500), ylim=(0, 500))\n",
    "  figs.append(fig)\n",
    "  plt.close(fig)\n",
    "  return figs"
   ]
  },
  {
   "cell_type": "markdown",
   "id": "87676a09",
   "metadata": {},
   "source": [
    "## Test"
   ]
  },
  {
   "cell_type": "code",
   "execution_count": 8,
   "id": "390ebb9f",
   "metadata": {},
   "outputs": [],
   "source": [
    "sim = BirdFlockSimulator(100)"
   ]
  },
  {
   "cell_type": "code",
   "execution_count": 9,
   "id": "3f000446",
   "metadata": {},
   "outputs": [],
   "source": [
    "j = 0\n",
    "for i in range(100):\n",
    "  sim.tick()\n",
    "  next = sim.getNext()\n",
    "  figs = velPlot(sim.nnDf, next)\n",
    "  for fig in figs:\n",
    "    num = str(j).rjust(3, '0')\n",
    "    fig.savefig(f'{num}.png')\n",
    "    j+=1"
   ]
  },
  {
   "cell_type": "code",
   "execution_count": null,
   "id": "3a8a28dd",
   "metadata": {},
   "outputs": [],
   "source": []
  },
  {
   "cell_type": "code",
   "execution_count": null,
   "id": "5b3bf529",
   "metadata": {},
   "outputs": [],
   "source": []
  }
 ],
 "metadata": {
  "interpreter": {
   "hash": "8124c299eb231f31c2add29327191d7472c70ab2095b4517a65bdbe70919c4a6"
  },
  "kernelspec": {
   "display_name": "Python 3.9.2 ('jp')",
   "language": "python",
   "name": "python3"
  },
  "language_info": {
   "codemirror_mode": {
    "name": "ipython",
    "version": 3
   },
   "file_extension": ".py",
   "mimetype": "text/x-python",
   "name": "python",
   "nbconvert_exporter": "python",
   "pygments_lexer": "ipython3",
   "version": "3.9.2"
  }
 },
 "nbformat": 4,
 "nbformat_minor": 5
}
