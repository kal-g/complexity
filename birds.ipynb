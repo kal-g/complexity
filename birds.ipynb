{
 "cells": [
  {
   "cell_type": "markdown",
   "id": "bfbc2ede",
   "metadata": {},
   "source": [
    "## Imports"
   ]
  },
  {
   "cell_type": "code",
   "execution_count": 1,
   "id": "b795cdfc",
   "metadata": {},
   "outputs": [],
   "source": [
    "import matplotlib.pyplot as plt\n",
    "import numpy as np\n",
    "import pandas as pd\n",
    "import math\n",
    "import heapq"
   ]
  },
  {
   "cell_type": "markdown",
   "id": "89af1d41",
   "metadata": {},
   "source": [
    "## BirdFlockSimulator"
   ]
  },
  {
   "cell_type": "code",
   "execution_count": 2,
   "id": "9bccaea5",
   "metadata": {},
   "outputs": [],
   "source": [
    "class NearestNeighbourCalculator:\n",
    "\n",
    "  # Heap for NN\n",
    "  class KHeap():\n",
    "    def __init__(self, capacity):\n",
    "      self.capacity = capacity\n",
    "      self.data = []\n",
    "\n",
    "    def push(self, elem):\n",
    "      elem[0] = -elem[0]\n",
    "      if len(self.data) < self.capacity:\n",
    "        heapq.heappush(self.data, elem)\n",
    "      elif elem > self.data[0]:\n",
    "        heapq.heappop(self.data)\n",
    "        heapq.heappush(self.data, elem)\n",
    "  \n",
    "  def __init__(self, neighBoursN):\n",
    "    self.neighboursN = neighBoursN\n",
    "  \n",
    "  def getNNDf(self, df):\n",
    "    res = []\n",
    "    for i in range(len(df)):\n",
    "      res.append(self.getKNearestNeighbours(i, df))\n",
    "    nndf = pd.DataFrame(np.array(res))\n",
    "    nndf = nndf.rename(mapper=self.mapColNames, axis='columns')\n",
    "    return pd.concat([df, nndf], axis='columns')\n",
    "\n",
    "  # Nearest Neighbours\n",
    "  def getKNearestNeighbours(self, i, df):\n",
    "    bird = df.iloc[i]\n",
    "    h = self.KHeap(self.neighboursN)\n",
    "    for index, row in df.iterrows():\n",
    "      if i == index:\n",
    "        continue\n",
    "      dist = abs(row.x-bird.x) ** 2 + abs(row.y-bird.y) ** 2\n",
    "      h.push([dist, row])\n",
    "    h.data.sort()\n",
    "    return np.array(\n",
    "      [[math.sqrt(-x[0]), x[1][0], x[1][1]]\n",
    "      for x in reversed(h.data)]).flatten()\n",
    "\n",
    "  def mapColNames(self, col):\n",
    "    nnn = col//3\n",
    "    label = \"\"\n",
    "    if col % 3 == 0:\n",
    "      label = \"dist\"\n",
    "    elif col % 3 == 1:\n",
    "      label = \"x\"\n",
    "    else:\n",
    "      label = \"y\"\n",
    "    return f\"nn_{nnn}_{label}\"\n",
    "  "
   ]
  },
  {
   "cell_type": "code",
   "execution_count": 3,
   "id": "ce43ade0",
   "metadata": {},
   "outputs": [],
   "source": [
    "class VectorCalculator:\n",
    "  def __init__(self, neighBoursN):\n",
    "    self.neighboursN = neighBoursN\n",
    "\n",
    "  # Vector calculation\n",
    "  def getVectors(self, df):\n",
    "    # Calculate vector based on NN\n",
    "    vectorData = []\n",
    "    for index, row in df.iterrows():\n",
    "      newXVector = 0.0\n",
    "      newYVector = 0.0\n",
    "      for i in range(self.neighboursN):\n",
    "        xDiff, yDiff = self.calcVector(row, (row[f\"nn_{i}_x\"], row[f\"nn_{i}_y\"], row[f\"nn_{i}_dist\"]))\n",
    "        newXVector += xDiff\n",
    "        newYVector += yDiff\n",
    "      xVector = newXVector + row.vx\n",
    "      yVector = newYVector + row.vy\n",
    "      # Take vectors and combine with current velocity\n",
    "      vectorData.append(np.array([xVector, yVector]))\n",
    "    ret = pd.DataFrame(np.array(vectorData))\n",
    "    ret.columns = [\"x\", \"y\"]\n",
    "    return ret\n",
    "  \n",
    "  # Alternative, use the vectors of the 5 closest neightbours instead?\n",
    "  def calcVector(self, bird, neighbour):\n",
    "    neighbourX, neighbourY, neighbourDist = neighbour\n",
    "    vecX = neighbourX-bird.x\n",
    "    vecY = neighbourY-bird.y\n",
    "    # If neighbour is greater than 15, we want to be attracted to a point 10 away\n",
    "    if neighbourDist >= 15:\n",
    "      attraction = neighbourDist-10\n",
    "      attractionFactor = 0.1\n",
    "      return self.normalizeVector(vecX, vecY, attraction*attractionFactor)\n",
    "    # If neighbour is less than 10, repulse them based on how close they are\n",
    "    # Push away linearly\n",
    "    elif neighbourDist <= 5:\n",
    "      repulsion = 10-neighbourDist\n",
    "      repulsionFactor = 0.1\n",
    "      return self.normalizeVector(-vecX, -vecY, repulsion*repulsionFactor)\n",
    "    # Else, maintain current vector\n",
    "    else:\n",
    "      return (0, 0)\n",
    "  \n",
    "  def normalizeVector(self, x, y, scale=1):\n",
    "    hyp = math.sqrt(x**2 + y**2)\n",
    "    return ((x/hyp)*scale, (y/hyp)*scale)"
   ]
  },
  {
   "cell_type": "code",
   "execution_count": 4,
   "id": "89efe994",
   "metadata": {},
   "outputs": [],
   "source": [
    "class BirdFlockSimulator:\n",
    "\n",
    "  # Init\n",
    "  def __init__(self, numBirds):\n",
    "    self.numBirds = numBirds\n",
    "    self.maxX = 100\n",
    "    self.maxY = 100\n",
    "    self.neighboursN = 5\n",
    "    self.birds = self.createBirdsDataframe()\n",
    "\n",
    "  def createBirdsDataframe(self):\n",
    "    d = {\n",
    "      'x': np.random.rand(self.numBirds) * self.maxX,\n",
    "      'y': np.random.rand(self.numBirds) * self.maxY,\n",
    "      'vx' : np.random.rand(self.numBirds) * 10,\n",
    "      'vy' : np.random.rand(self.numBirds) * 10\n",
    "    }\n",
    "    return pd.DataFrame(data=d)\n",
    "\n",
    "  def tick(self):\n",
    "    # NN\n",
    "    nnCalc = NearestNeighbourCalculator(self.neighboursN)\n",
    "    nnDf = nnCalc.getNNDf(self.birds)\n",
    "\n",
    "    # Vectors\n",
    "    vCalc = VectorCalculator(self.neighboursN)\n",
    "    vectors = vCalc.getVectors(nnDf)\n",
    "\n",
    "    # Create new df\n",
    "    newD = self.birds[['x', 'y']] + vectors\n",
    "    vectors.columns = ['vx', 'vy']\n",
    "    self.birds = pd.concat([newD, vectors], axis=1)\n",
    "\n",
    "  def getDf(self):\n",
    "    return self.birds\n",
    "\n",
    "  "
   ]
  },
  {
   "cell_type": "markdown",
   "id": "87676a09",
   "metadata": {},
   "source": [
    "## Test"
   ]
  },
  {
   "cell_type": "code",
   "execution_count": 5,
   "id": "390ebb9f",
   "metadata": {},
   "outputs": [],
   "source": [
    "sim = BirdFlockSimulator(100)"
   ]
  },
  {
   "cell_type": "code",
   "execution_count": 6,
   "id": "c31a91cb",
   "metadata": {},
   "outputs": [
    {
     "data": {
      "text/plain": [
       "[<matplotlib.lines.Line2D at 0x7fd020c4c730>]"
      ]
     },
     "execution_count": 6,
     "metadata": {},
     "output_type": "execute_result"
    },
    {
     "data": {
      "image/png": "[encoded data removed]",
      "text/plain": [
       "<Figure size 432x288 with 1 Axes>"
      ]
     },
     "metadata": {
      "needs_background": "light"
     },
     "output_type": "display_data"
    }
   ],
   "source": [
    "curr = sim.getDf()\n",
    "plt.plot(curr.x, curr.y, 'o', color='black')"
   ]
  },
  {
   "cell_type": "code",
   "execution_count": 7,
   "id": "49471b92",
   "metadata": {},
   "outputs": [
    {
     "data": {
      "text/html": [
       "<div>\n",
       "<style scoped>\n",
       "    .dataframe tbody tr th:only-of-type {\n",
       "        vertical-align: middle;\n",
       "    }\n",
       "\n",
       "    .dataframe tbody tr th {\n",
       "        vertical-align: top;\n",
       "    }\n",
       "\n",
       "    .dataframe thead th {\n",
       "        text-align: right;\n",
       "    }\n",
       "</style>\n",
       "<table border=\"1\" class=\"dataframe\">\n",
       "  <thead>\n",
       "    <tr style=\"text-align: right;\">\n",
       "      <th></th>\n",
       "      <th>x</th>\n",
       "      <th>y</th>\n",
       "      <th>vx</th>\n",
       "      <th>vy</th>\n",
       "    </tr>\n",
       "  </thead>\n",
       "  <tbody>\n",
       "    <tr>\n",
       "      <th>0</th>\n",
       "      <td>88.884719</td>\n",
       "      <td>17.834966</td>\n",
       "      <td>0.926846</td>\n",
       "      <td>7.959298</td>\n",
       "    </tr>\n",
       "    <tr>\n",
       "      <th>1</th>\n",
       "      <td>31.986539</td>\n",
       "      <td>47.833032</td>\n",
       "      <td>3.108443</td>\n",
       "      <td>9.077168</td>\n",
       "    </tr>\n",
       "    <tr>\n",
       "      <th>2</th>\n",
       "      <td>82.964820</td>\n",
       "      <td>19.788056</td>\n",
       "      <td>7.393443</td>\n",
       "      <td>8.510063</td>\n",
       "    </tr>\n",
       "    <tr>\n",
       "      <th>3</th>\n",
       "      <td>57.048788</td>\n",
       "      <td>73.162901</td>\n",
       "      <td>0.411536</td>\n",
       "      <td>2.041046</td>\n",
       "    </tr>\n",
       "    <tr>\n",
       "      <th>4</th>\n",
       "      <td>68.678717</td>\n",
       "      <td>27.295205</td>\n",
       "      <td>1.287799</td>\n",
       "      <td>9.218518</td>\n",
       "    </tr>\n",
       "    <tr>\n",
       "      <th>...</th>\n",
       "      <td>...</td>\n",
       "      <td>...</td>\n",
       "      <td>...</td>\n",
       "      <td>...</td>\n",
       "    </tr>\n",
       "    <tr>\n",
       "      <th>95</th>\n",
       "      <td>92.519562</td>\n",
       "      <td>27.533971</td>\n",
       "      <td>7.738318</td>\n",
       "      <td>0.748193</td>\n",
       "    </tr>\n",
       "    <tr>\n",
       "      <th>96</th>\n",
       "      <td>28.142960</td>\n",
       "      <td>34.062557</td>\n",
       "      <td>4.627585</td>\n",
       "      <td>4.208010</td>\n",
       "    </tr>\n",
       "    <tr>\n",
       "      <th>97</th>\n",
       "      <td>8.312693</td>\n",
       "      <td>14.522406</td>\n",
       "      <td>4.421882</td>\n",
       "      <td>3.772546</td>\n",
       "    </tr>\n",
       "    <tr>\n",
       "      <th>98</th>\n",
       "      <td>75.585221</td>\n",
       "      <td>13.961603</td>\n",
       "      <td>2.873628</td>\n",
       "      <td>5.352939</td>\n",
       "    </tr>\n",
       "    <tr>\n",
       "      <th>99</th>\n",
       "      <td>37.040685</td>\n",
       "      <td>55.267649</td>\n",
       "      <td>7.283548</td>\n",
       "      <td>1.433350</td>\n",
       "    </tr>\n",
       "  </tbody>\n",
       "</table>\n",
       "<p>100 rows × 4 columns</p>\n",
       "</div>"
      ],
      "text/plain": [
       "            x          y        vx        vy\n",
       "0   88.884719  17.834966  0.926846  7.959298\n",
       "1   31.986539  47.833032  3.108443  9.077168\n",
       "2   82.964820  19.788056  7.393443  8.510063\n",
       "3   57.048788  73.162901  0.411536  2.041046\n",
       "4   68.678717  27.295205  1.287799  9.218518\n",
       "..        ...        ...       ...       ...\n",
       "95  92.519562  27.533971  7.738318  0.748193\n",
       "96  28.142960  34.062557  4.627585  4.208010\n",
       "97   8.312693  14.522406  4.421882  3.772546\n",
       "98  75.585221  13.961603  2.873628  5.352939\n",
       "99  37.040685  55.267649  7.283548  1.433350\n",
       "\n",
       "[100 rows x 4 columns]"
      ]
     },
     "execution_count": 7,
     "metadata": {},
     "output_type": "execute_result"
    }
   ],
   "source": [
    "curr"
   ]
  },
  {
   "cell_type": "code",
   "execution_count": 8,
   "id": "3ca6c321",
   "metadata": {},
   "outputs": [],
   "source": [
    "for i in range(10):\n",
    "  sim.tick()"
   ]
  },
  {
   "cell_type": "code",
   "execution_count": 9,
   "id": "7df26757",
   "metadata": {},
   "outputs": [
    {
     "data": {
      "text/plain": [
       "[<matplotlib.lines.Line2D at 0x7fcff0cf04c0>]"
      ]
     },
     "execution_count": 9,
     "metadata": {},
     "output_type": "execute_result"
    },
    {
     "data": {
      "image/png": "[encoded data removed]",
      "text/plain": [
       "<Figure size 432x288 with 1 Axes>"
      ]
     },
     "metadata": {
      "needs_background": "light"
     },
     "output_type": "display_data"
    }
   ],
   "source": [
    "curr = sim.getDf()\n",
    "plt.plot(curr.x, curr.y, 'o', color='black')"
   ]
  },
  {
   "cell_type": "code",
   "execution_count": 12,
   "id": "3f000446",
   "metadata": {},
   "outputs": [],
   "source": [
    "for i in range(30):\n",
    "  sim.tick()"
   ]
  },
  {
   "cell_type": "code",
   "execution_count": 13,
   "id": "521f61f3",
   "metadata": {},
   "outputs": [
    {
     "data": {
      "text/plain": [
       "[<matplotlib.lines.Line2D at 0x7fcfc03fbfa0>]"
      ]
     },
     "execution_count": 13,
     "metadata": {},
     "output_type": "execute_result"
    },
    {
     "data": {
      "image/png": "[encoded data removed]",
      "text/plain": [
       "<Figure size 432x288 with 1 Axes>"
      ]
     },
     "metadata": {
      "needs_background": "light"
     },
     "output_type": "display_data"
    }
   ],
   "source": [
    "curr = sim.getDf()\n",
    "plt.plot(curr.x, curr.y, 'o', color='black')"
   ]
  },
  {
   "cell_type": "code",
   "execution_count": null,
   "id": "3b69637d",
   "metadata": {},
   "outputs": [],
   "source": []
  }
 ],
 "metadata": {
  "interpreter": {
   "hash": "8124c299eb231f31c2add29327191d7472c70ab2095b4517a65bdbe70919c4a6"
  },
  "kernelspec": {
   "display_name": "Python 3.9.2 ('jp')",
   "language": "python",
   "name": "python3"
  },
  "language_info": {
   "codemirror_mode": {
    "name": "ipython",
    "version": 3
   },
   "file_extension": ".py",
   "mimetype": "text/x-python",
   "name": "python",
   "nbconvert_exporter": "python",
   "pygments_lexer": "ipython3",
   "version": "3.9.2"
  }
 },
 "nbformat": 4,
 "nbformat_minor": 5
}
