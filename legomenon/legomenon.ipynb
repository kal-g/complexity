{
 "cells": [
  {
   "cell_type": "code",
   "execution_count": 3,
   "id": "83cf3538",
   "metadata": {},
   "outputs": [],
   "source": [
    "wordDict = dict()"
   ]
  },
  {
   "cell_type": "code",
   "execution_count": 4,
   "id": "05100983",
   "metadata": {},
   "outputs": [],
   "source": [
    "with open('wikiclean.txt') as f:\n",
    "    in_lines = f.readlines()\n",
    "    for line in in_lines:\n",
    "      for word in line.split(' '):\n",
    "        word = word.rstrip('\\n')\n",
    "        if word not in wordDict:\n",
    "          wordDict[word] = 0\n",
    "        wordDict[word] += 1"
   ]
  },
  {
   "cell_type": "code",
   "execution_count": 5,
   "id": "dd825dd9",
   "metadata": {},
   "outputs": [],
   "source": [
    "l = []\n",
    "for k, v in wordDict.items():\n",
    "  l.append((v,k))"
   ]
  },
  {
   "cell_type": "code",
   "execution_count": 6,
   "id": "d3c7038e",
   "metadata": {},
   "outputs": [],
   "source": [
    "data = list(reversed(sorted(l)))"
   ]
  },
  {
   "cell_type": "code",
   "execution_count": 7,
   "id": "7fdc2c30",
   "metadata": {},
   "outputs": [],
   "source": [
    "import matplotlib.pyplot as plt"
   ]
  },
  {
   "cell_type": "code",
   "execution_count": 10,
   "id": "f59952ca",
   "metadata": {},
   "outputs": [],
   "source": [
    "plot_data = [x[0] for x in data]"
   ]
  },
  {
   "cell_type": "code",
   "execution_count": 25,
   "id": "cc3c6b55",
   "metadata": {},
   "outputs": [
    {
     "data": {
      "image/png": "[encoded data removed]",
      "text/plain": [
       "<Figure size 432x288 with 1 Axes>"
      ]
     },
     "metadata": {
      "needs_background": "light"
     },
     "output_type": "display_data"
    }
   ],
   "source": [
    "fig = plt.figure()\n",
    "ax = fig.add_axes([0,0,1,1])\n",
    "ax.scatter(list(range(len(plot_data))), plot_data)\n",
    "plt.ylabel('Freq')\n",
    "plt.xlabel('Rank')\n",
    "ax.set_yscale('log')\n",
    "ax.set_xscale('log')"
   ]
  },
  {
   "cell_type": "code",
   "execution_count": null,
   "id": "f2b1d127",
   "metadata": {},
   "outputs": [],
   "source": []
  }
 ],
 "metadata": {
  "kernelspec": {
   "display_name": "Python 3.9.2 ('jp')",
   "language": "python",
   "name": "python3"
  },
  "language_info": {
   "codemirror_mode": {
    "name": "ipython",
    "version": 3
   },
   "file_extension": ".py",
   "mimetype": "text/x-python",
   "name": "python",
   "nbconvert_exporter": "python",
   "pygments_lexer": "ipython3",
   "version": "3.9.2"
  },
  "vscode": {
   "interpreter": {
    "hash": "8124c299eb231f31c2add29327191d7472c70ab2095b4517a65bdbe70919c4a6"
   }
  }
 },
 "nbformat": 4,
 "nbformat_minor": 5
}
