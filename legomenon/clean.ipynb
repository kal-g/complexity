{
 "cells": [
  {
   "cell_type": "code",
   "execution_count": 123,
   "id": "95dc2940",
   "metadata": {},
   "outputs": [],
   "source": [
    "import re\n",
    "regex = re.compile('[^a-zA-Z\\']')"
   ]
  },
  {
   "cell_type": "code",
   "execution_count": 124,
   "id": "c1fb230b",
   "metadata": {},
   "outputs": [],
   "source": [
    "def parseLine(in_line):\n",
    "  ## TODO References\n",
    "  out_line = []\n",
    "  for word in in_line.split(' '):\n",
    "    word = word.replace(\"\\n\", '')\n",
    "    word = word.lstrip('\"\\'(')\n",
    "    word = word.rstrip(';,\").:')\n",
    "    if not regex.search(word):\n",
    "      out_line.append(word)\n",
    "  return ' '.join(out_line) + '\\n'"
   ]
  },
  {
   "cell_type": "code",
   "execution_count": 125,
   "id": "334d7213",
   "metadata": {},
   "outputs": [],
   "source": [
    "out_lines = []\n",
    "with open('wikiraw.txt') as f:\n",
    "    in_lines = f.readlines()\n",
    "    for line in in_lines:\n",
    "      out_lines.append(parseLine(line))"
   ]
  },
  {
   "cell_type": "code",
   "execution_count": 127,
   "id": "d6faa560",
   "metadata": {},
   "outputs": [],
   "source": [
    "with open('wikiclean.txt', 'w') as f:\n",
    "    f.writelines(out_lines)"
   ]
  },
  {
   "cell_type": "code",
   "execution_count": null,
   "id": "211eec7e",
   "metadata": {},
   "outputs": [],
   "source": []
  }
 ],
 "metadata": {
  "kernelspec": {
   "display_name": "Python 3.9.2 ('jp')",
   "language": "python",
   "name": "python3"
  },
  "language_info": {
   "codemirror_mode": {
    "name": "ipython",
    "version": 3
   },
   "file_extension": ".py",
   "mimetype": "text/x-python",
   "name": "python",
   "nbconvert_exporter": "python",
   "pygments_lexer": "ipython3",
   "version": "3.9.2"
  },
  "vscode": {
   "interpreter": {
    "hash": "8124c299eb231f31c2add29327191d7472c70ab2095b4517a65bdbe70919c4a6"
   }
  }
 },
 "nbformat": 4,
 "nbformat_minor": 5
}
